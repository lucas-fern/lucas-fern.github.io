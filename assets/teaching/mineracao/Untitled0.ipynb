{
 "metadata": {
  "name": "",
  "signature": "sha256:3b8abf7ed063ea944b95c915882784ee6343a7f9cf491b64c37378909c5ec670"
 },
 "nbformat": 3,
 "nbformat_minor": 0,
 "worksheets": []
}